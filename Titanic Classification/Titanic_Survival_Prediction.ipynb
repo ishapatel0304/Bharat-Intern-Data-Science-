{
  "cells": [
    {
      "cell_type": "code",
      "execution_count": 15,
      "metadata": {
        "id": "qRJYAxjjBguh"
      },
      "outputs": [
        {
          "ename": "ModuleNotFoundError",
          "evalue": "No module named 'numpy'",
          "output_type": "error",
          "traceback": [
            "\u001b[1;31m---------------------------------------------------------------------------\u001b[0m",
            "\u001b[1;31mModuleNotFoundError\u001b[0m                       Traceback (most recent call last)",
            "Cell \u001b[1;32mIn[15], line 1\u001b[0m\n\u001b[1;32m----> 1\u001b[0m \u001b[38;5;28;01mimport\u001b[39;00m \u001b[38;5;21;01mnumpy\u001b[39;00m \u001b[38;5;28;01mas\u001b[39;00m \u001b[38;5;21;01mnp\u001b[39;00m\n\u001b[0;32m      2\u001b[0m \u001b[38;5;28;01mimport\u001b[39;00m \u001b[38;5;21;01mpandas\u001b[39;00m \u001b[38;5;28;01mas\u001b[39;00m \u001b[38;5;21;01mpd\u001b[39;00m\n\u001b[0;32m      3\u001b[0m \u001b[38;5;28;01mimport\u001b[39;00m \u001b[38;5;21;01mmatplotlib\u001b[39;00m\u001b[38;5;21;01m.\u001b[39;00m\u001b[38;5;21;01mpyplot\u001b[39;00m \u001b[38;5;28;01mas\u001b[39;00m \u001b[38;5;21;01mplt\u001b[39;00m\n",
            "\u001b[1;31mModuleNotFoundError\u001b[0m: No module named 'numpy'"
          ]
        }
      ],
      "source": [
        "import numpy as np\n",
        "import pandas as pd\n",
        "import matplotlib.pyplot as plt\n",
        "import seaborn as sns\n",
        "from sklearn.model_selection import train_test_split\n",
        "from sklearn.linear_model import LogisticRegression\n",
        "from sklearn.metrics import accuracy_score"
      ]
    },
    {
      "cell_type": "code",
      "execution_count": null,
      "metadata": {
        "id": "tAJJoFzlGNZv"
      },
      "outputs": [],
      "source": [
        "titanic_data = pd.read_csv('sample_data/train.csv')"
      ]
    },
    {
      "cell_type": "code",
      "execution_count": null,
      "metadata": {
        "colab": {
          "base_uri": "https://localhost:8080/",
          "height": 206
        },
        "id": "TTF492raGfPD",
        "outputId": "4bbcbcce-d1f8-40cc-fd5b-25c3861a6876"
      },
      "outputs": [],
      "source": [
        "titanic_data.head()"
      ]
    },
    {
      "cell_type": "code",
      "execution_count": null,
      "metadata": {
        "colab": {
          "base_uri": "https://localhost:8080/"
        },
        "id": "lgysJeRwGjzA",
        "outputId": "07adf7b8-46a4-42f6-9a40-644df00873ef"
      },
      "outputs": [],
      "source": [
        "titanic_data.shape"
      ]
    },
    {
      "cell_type": "code",
      "execution_count": null,
      "metadata": {
        "colab": {
          "base_uri": "https://localhost:8080/"
        },
        "id": "LPVQMX-hGnRy",
        "outputId": "f230628f-3cfb-48e1-e135-fcc550bc7f5d"
      },
      "outputs": [],
      "source": [
        "titanic_data.info()"
      ]
    },
    {
      "cell_type": "code",
      "execution_count": null,
      "metadata": {
        "colab": {
          "base_uri": "https://localhost:8080/",
          "height": 460
        },
        "id": "00bWtq81Gunk",
        "outputId": "adb45e6a-f4ab-4a65-fcf3-34d482fe3d84"
      },
      "outputs": [],
      "source": [
        "titanic_data.isnull().sum()"
      ]
    },
    {
      "cell_type": "code",
      "execution_count": null,
      "metadata": {
        "id": "u7P27Dh_Gzod"
      },
      "outputs": [],
      "source": [
        "titanic_data = titanic_data.drop(columns='Cabin', axis=1)"
      ]
    },
    {
      "cell_type": "code",
      "execution_count": null,
      "metadata": {
        "id": "2sOdt5xdG_DQ"
      },
      "outputs": [],
      "source": [
        "titanic_data['Age'].fillna(titanic_data['Age'].mean(), inplace=True)"
      ]
    },
    {
      "cell_type": "code",
      "execution_count": null,
      "metadata": {
        "colab": {
          "base_uri": "https://localhost:8080/"
        },
        "id": "9rdTI3tDHB-A",
        "outputId": "8553d673-2745-43bf-e4de-b3b69d8eaeb2"
      },
      "outputs": [],
      "source": [
        "titanic_data.info()"
      ]
    },
    {
      "cell_type": "code",
      "execution_count": null,
      "metadata": {
        "colab": {
          "base_uri": "https://localhost:8080/",
          "height": 429
        },
        "id": "QhPRMeWXHOTr",
        "outputId": "26708930-f6f7-4769-b65f-193f17946274"
      },
      "outputs": [],
      "source": [
        "titanic_data.isnull().sum()"
      ]
    },
    {
      "cell_type": "code",
      "execution_count": null,
      "metadata": {
        "colab": {
          "base_uri": "https://localhost:8080/"
        },
        "id": "MXcQJ07xHRVx",
        "outputId": "a26128f6-e587-404a-a9d5-e844f33c69b5"
      },
      "outputs": [],
      "source": [
        "print(titanic_data['Embarked'].mode())"
      ]
    },
    {
      "cell_type": "code",
      "execution_count": null,
      "metadata": {
        "colab": {
          "base_uri": "https://localhost:8080/"
        },
        "id": "bBE7yxETHYKH",
        "outputId": "f8de1bfa-52fc-4a57-8759-7400351f1275"
      },
      "outputs": [],
      "source": [
        "print(titanic_data['Embarked'].mode()[0])"
      ]
    },
    {
      "cell_type": "code",
      "execution_count": null,
      "metadata": {
        "id": "-9fZLW5YHaWA"
      },
      "outputs": [],
      "source": [
        "titanic_data['Embarked'].fillna(titanic_data['Embarked'].mode()[0], inplace=True)"
      ]
    },
    {
      "cell_type": "code",
      "execution_count": null,
      "metadata": {
        "colab": {
          "base_uri": "https://localhost:8080/",
          "height": 429
        },
        "id": "7yOizmxeHd-r",
        "outputId": "118ea762-2cbb-4c64-bf76-b70aeaf81e77"
      },
      "outputs": [],
      "source": [
        "titanic_data.isnull().sum()"
      ]
    },
    {
      "cell_type": "markdown",
      "metadata": {
        "id": "HaZApTwzHoCa"
      },
      "source": [
        "## **Analysing the Data**"
      ]
    },
    {
      "cell_type": "code",
      "execution_count": null,
      "metadata": {
        "colab": {
          "base_uri": "https://localhost:8080/",
          "height": 300
        },
        "id": "PgFdwldIHskj",
        "outputId": "fd55ffe6-315b-4976-f9cb-0f2c205d2344"
      },
      "outputs": [],
      "source": [
        "titanic_data.describe()"
      ]
    },
    {
      "cell_type": "code",
      "execution_count": null,
      "metadata": {
        "colab": {
          "base_uri": "https://localhost:8080/",
          "height": 178
        },
        "id": "HNEupRwrHxZl",
        "outputId": "17c36cf0-fdf8-49fd-ac22-4e4d3bcea548"
      },
      "outputs": [],
      "source": [
        "titanic_data['Survived'].value_counts()"
      ]
    },
    {
      "cell_type": "code",
      "execution_count": null,
      "metadata": {
        "id": "B8c5KCzrII03"
      },
      "outputs": [],
      "source": [
        "sns.set()"
      ]
    },
    {
      "cell_type": "code",
      "execution_count": null,
      "metadata": {
        "colab": {
          "base_uri": "https://localhost:8080/",
          "height": 451
        },
        "id": "Krrf0qiUIM9C",
        "outputId": "332c0103-29c3-4667-f12b-08ad09c06031"
      },
      "outputs": [],
      "source": [
        "sns.countplot(titanic_data['Survived'])"
      ]
    },
    {
      "cell_type": "code",
      "execution_count": null,
      "metadata": {
        "colab": {
          "base_uri": "https://localhost:8080/",
          "height": 178
        },
        "id": "ULf4PhEZIioL",
        "outputId": "108d1845-e2ad-41d3-cbe7-30e6d11ebc6a"
      },
      "outputs": [],
      "source": [
        "titanic_data['Sex'].value_counts()"
      ]
    },
    {
      "cell_type": "code",
      "execution_count": null,
      "metadata": {
        "colab": {
          "base_uri": "https://localhost:8080/",
          "height": 475
        },
        "id": "6LYVHwrzIn34",
        "outputId": "d6e6ac5a-f053-4a70-d880-21b499651ff3"
      },
      "outputs": [],
      "source": [
        "sns.countplot(titanic_data['Sex'])"
      ]
    },
    {
      "cell_type": "code",
      "execution_count": null,
      "metadata": {
        "colab": {
          "base_uri": "https://localhost:8080/",
          "height": 475
        },
        "id": "dNqfLhn-IxGL",
        "outputId": "c703cf9a-3c60-4166-bb9f-761f221f8f38"
      },
      "outputs": [],
      "source": [
        "sns.countplot(x='Sex', hue='Survived', data=titanic_data)\n"
      ]
    },
    {
      "cell_type": "code",
      "execution_count": null,
      "metadata": {
        "colab": {
          "base_uri": "https://localhost:8080/",
          "height": 475
        },
        "id": "k38QayDnI1P0",
        "outputId": "371195b4-b969-455a-9e40-3049245bb04b"
      },
      "outputs": [],
      "source": [
        "sns.countplot(x='Pclass', data=titanic_data)"
      ]
    },
    {
      "cell_type": "code",
      "execution_count": null,
      "metadata": {
        "colab": {
          "base_uri": "https://localhost:8080/",
          "height": 475
        },
        "id": "KhRdq6hPI6QL",
        "outputId": "60b4423a-9f67-4756-b065-5f05139cdbca"
      },
      "outputs": [],
      "source": [
        "sns.countplot(x='Pclass', hue='Survived', data=titanic_data)"
      ]
    },
    {
      "cell_type": "markdown",
      "metadata": {
        "id": "C9Tsr3LqJKdW"
      },
      "source": [
        "## **Encode categorical columns/data**"
      ]
    },
    {
      "cell_type": "code",
      "execution_count": null,
      "metadata": {
        "colab": {
          "base_uri": "https://localhost:8080/",
          "height": 178
        },
        "id": "4PoOI4s6JRo8",
        "outputId": "5bfaca8b-a80d-46e3-8304-0b5eb72ff5b9"
      },
      "outputs": [],
      "source": [
        "titanic_data['Sex'].value_counts()"
      ]
    },
    {
      "cell_type": "code",
      "execution_count": null,
      "metadata": {
        "colab": {
          "base_uri": "https://localhost:8080/",
          "height": 209
        },
        "id": "ui5nzlS0JVos",
        "outputId": "4493f0a6-75f6-42ce-b9ec-4c9ae2f46774"
      },
      "outputs": [],
      "source": [
        "titanic_data['Embarked'].value_counts()"
      ]
    },
    {
      "cell_type": "code",
      "execution_count": null,
      "metadata": {
        "colab": {
          "base_uri": "https://localhost:8080/",
          "height": 423
        },
        "id": "AgzNX2PVJeK5",
        "outputId": "104a888e-09a1-4d6c-dc8f-ab5c640b2a09"
      },
      "outputs": [],
      "source": [
        "titanic_data.replace({'Sex':{'male':0,'female':1}, 'Embarked':{'S':0,'C':1,'Q':2}})\n"
      ]
    },
    {
      "cell_type": "code",
      "execution_count": null,
      "metadata": {
        "id": "tqLp6hF7JrNP"
      },
      "outputs": [],
      "source": [
        "X = titanic_data.drop(columns = ['PassengerId','Name','Ticket','Survived'],axis=1)\n",
        "Y = titanic_data['Survived']"
      ]
    },
    {
      "cell_type": "code",
      "execution_count": null,
      "metadata": {
        "colab": {
          "base_uri": "https://localhost:8080/"
        },
        "id": "nZzzs7msJ1SR",
        "outputId": "b2c88b62-c3c2-4e4f-a7e8-3e122d556d65"
      },
      "outputs": [],
      "source": [
        "print(X)"
      ]
    },
    {
      "cell_type": "code",
      "execution_count": null,
      "metadata": {
        "colab": {
          "base_uri": "https://localhost:8080/"
        },
        "id": "luJCmW2AJ4ky",
        "outputId": "d9ff4281-c978-4910-a2ec-5bd2121c49f2"
      },
      "outputs": [],
      "source": [
        "print(Y)"
      ]
    },
    {
      "cell_type": "markdown",
      "metadata": {
        "id": "GIGiGgGxWeLG"
      },
      "source": [
        "## **Split the data into test data and train data**"
      ]
    },
    {
      "cell_type": "code",
      "execution_count": null,
      "metadata": {
        "id": "1SMi5fLZKAj_"
      },
      "outputs": [],
      "source": [
        "X_train, X_test, Y_train, Y_test = train_test_split(X,Y, test_size=0.2, random_state=2)"
      ]
    },
    {
      "cell_type": "code",
      "execution_count": null,
      "metadata": {
        "colab": {
          "base_uri": "https://localhost:8080/"
        },
        "id": "zVmMxWoOXjdA",
        "outputId": "de44a1e4-2cee-4287-ad93-0d16a360c270"
      },
      "outputs": [],
      "source": [
        "print(X.shape, X_train.shape, X_test.shape)"
      ]
    },
    {
      "cell_type": "code",
      "execution_count": null,
      "metadata": {
        "id": "Ah1RvJDUXnJw"
      },
      "outputs": [],
      "source": [
        "model = LogisticRegression()"
      ]
    },
    {
      "cell_type": "code",
      "execution_count": null,
      "metadata": {
        "colab": {
          "base_uri": "https://localhost:8080/",
          "height": 213
        },
        "id": "7wQntmZAXwAU",
        "outputId": "7e4e9d34-1d68-4bb4-c177-42571865f608"
      },
      "outputs": [],
      "source": [
        "model.fit(X_train, Y_train)"
      ]
    },
    {
      "cell_type": "markdown",
      "metadata": {
        "id": "VEGSDf_LX72U"
      },
      "source": [
        "## **Evaluating and testing the model**"
      ]
    },
    {
      "cell_type": "code",
      "execution_count": null,
      "metadata": {
        "id": "OwT0B2vJYTMf"
      },
      "outputs": [],
      "source": [
        "X_train_prediction = model.predict(X_train)"
      ]
    },
    {
      "cell_type": "code",
      "execution_count": null,
      "metadata": {
        "colab": {
          "base_uri": "https://localhost:8080/"
        },
        "id": "ZxkUoaP5X3Gp",
        "outputId": "7c9bf86c-ce7d-4626-e084-d59d323eab92"
      },
      "outputs": [],
      "source": [
        "print(X_train_prediction)"
      ]
    },
    {
      "cell_type": "code",
      "execution_count": null,
      "metadata": {
        "colab": {
          "base_uri": "https://localhost:8080/"
        },
        "id": "dGPBPWHcYX0U",
        "outputId": "255c688d-7456-40d2-c984-bfbafbc5bff7"
      },
      "outputs": [],
      "source": [
        "training_data_accuracy = accuracy_score(Y_train, X_train_prediction)\n",
        "print('Accuracy score of training data : ', training_data_accuracy)"
      ]
    },
    {
      "cell_type": "code",
      "execution_count": null,
      "metadata": {
        "id": "83fURlEJYgOd"
      },
      "outputs": [],
      "source": [
        "X_test_prediction = model.predict(X_test)"
      ]
    },
    {
      "cell_type": "code",
      "execution_count": null,
      "metadata": {
        "colab": {
          "base_uri": "https://localhost:8080/"
        },
        "id": "URDMqfKHYlCQ",
        "outputId": "9234bb3f-1802-4b17-af4d-3b33d78aaf38"
      },
      "outputs": [],
      "source": [
        "print(X_test_prediction)"
      ]
    },
    {
      "cell_type": "code",
      "execution_count": null,
      "metadata": {
        "colab": {
          "base_uri": "https://localhost:8080/"
        },
        "id": "qkrtxIAHYoCV",
        "outputId": "5591f6be-e43e-41bb-d642-222591a06bb3"
      },
      "outputs": [],
      "source": [
        "test_data_accuracy = accuracy_score(Y_test, X_test_prediction)\n",
        "print('Accuracy score of test data : ', test_data_accuracy)"
      ]
    },
    {
      "cell_type": "code",
      "execution_count": null,
      "metadata": {
        "colab": {
          "base_uri": "https://localhost:8080/"
        },
        "id": "Nvn9Azi0YvP2",
        "outputId": "ea9412a4-b384-4fe6-b916-94317138f8cf"
      },
      "outputs": [],
      "source": [
        "import joblib\n",
        "joblib.dump(model, 'logistic_regression_model.pkl')"
      ]
    },
    {
      "cell_type": "code",
      "execution_count": null,
      "metadata": {
        "colab": {
          "base_uri": "https://localhost:8080/"
        },
        "id": "dmY-gEgaaAE-",
        "outputId": "7b4d6cee-3dac-4d6e-ce53-c99f7c46cf99"
      },
      "outputs": [],
      "source": [
        "!pip install pyngrok\n",
        "\n",
        "import subprocess\n",
        "import os\n",
        "from pyngrok import ngrok\n",
        "\n",
        "ngrok.set_auth_token(\"2l62uIQqv8m7YmkUUBLMfq9xgeN_Di9PyFXgXCMFwtQ11WAV\")\n",
        "os.system(\"nohup python -m flask run --no-reload &\")\n",
        "proc = subprocess.Popen(['ngrok', 'http', '5000'])\n",
        "public_url = ngrok.connect(addr=\"5000\", proto=\"http\")\n",
        "print(\"Public URL:\", public_url)"
      ]
    },
    {
      "cell_type": "code",
      "execution_count": null,
      "metadata": {
        "colab": {
          "base_uri": "https://localhost:8080/",
          "height": 246
        },
        "id": "riCGVZy6aT0B",
        "outputId": "83582b47-6f3a-48c9-f228-439919b7755d"
      },
      "outputs": [],
      "source": [
        "from flask import Flask, request, jsonify\n",
        "import joblib\n",
        "from pyngrok import ngrok\n",
        "from IPython.display import display, HTML\n",
        "\n",
        "model = joblib.load('logistic_regression_model.pkl')\n",
        "app = Flask(__name__)\n",
        "@app.route('/')\n",
        "def home():\n",
        "  html_form = \"\"\"\n",
        "  <!DOCTYPE html>\n",
        "  <html>\n",
        "  <head>\n",
        "    <meta charset=\"UTF-8\">\n",
        "    <meta name=\"viewport\" content=\"width=device-width, initial-scale=1.0\">\n",
        "    <title>Titanic Survival Prediction</title>\n",
        "  </head>\n",
        "  <body>\n",
        "    <h2>Titanic Survival Prediction</h2>\n",
        "    <form id=\"predictionForm method=\"POST\" action=\"/predict\">\n",
        "    <label for=\"pclass\">Pclass:</label>\n",
        "    <input type=\"text\" id=\"pclass\" name=\"pclass\" required><br><br>\n",
        "\n",
        "    <label for=\"sex\">Sex(0 for male, 1 for female):</label>\n",
        "    <input type=\"text\" id=\"sex\" name=\"sex\" required><br><br>\n",
        "\n",
        "    <label for=\"age\">Age:</label>\n",
        "    <input type=\"text\" id=\"age\" name=\"age\" required><br><br>\n",
        "\n",
        "    <label for=\"sibsp\">Sibsp:</label>\n",
        "    <input type=\"text\" id=\"sibsp\" name=\"sibsp\" required><br><br>\n",
        "\n",
        "    <label for=\"parch\">Parch:</label>\n",
        "    <input type=\"text\" id=\"parch\" name=\"parch\" required><br><br>\n",
        "\n",
        "    <label for=\"fare\">Fare:</label>\n",
        "    <input type=\"text\" id=\"fare\" name=\"fare\" required><br><br>\n",
        "\n",
        "    <label for=\"embarked\">Embarked(0 for S, 1 for C, 2 for Q):</label>\n",
        "    <input type=\"text\" id=\"embarked\" name=\"embarked\" required><br><br>\n",
        "\n",
        "    <button type=\"button\" onclick=\"predictSurvival()\">Predict</button>\n",
        "    </form>\n",
        "\n",
        "    <p id=\"predictionResult\"></p>\n",
        "\n",
        "    <script>\n",
        "    function predictSurvival() {\n",
        "      var xhr = new XMLHttpRequest();\n",
        "      var url = \"/predict\";\n",
        "      var data = new FormData(document.getElementById(\"predictionForm\"));\n",
        "\n",
        "      xhr.open(\"POST\", url, true);\n",
        "      xhr.onreadystatechange = function() {\n",
        "        if (xhr.readyState === 4 && xhr.status === 200) {\n",
        "          var result = xhr.responseText;\n",
        "          document.getElementById(\"predictionResult\").textContent = result;\n",
        "        }\n",
        "        };\n",
        "      xhr.send(data);\n",
        "    }\n",
        "    </script>\n",
        "  </body>\n",
        "  </html>\n",
        "  \"\"\"\n",
        "  return html_form\n",
        "\n",
        "@app.route('/predict', methods=['POST'])\n",
        "def predict():\n",
        "    try:\n",
        "        pclass = int(request.form['pclass'])\n",
        "        sex = int(request.form['sex'])\n",
        "        age = float(request.form['age'])\n",
        "        sibsp = int(request.form['sibsp'])\n",
        "        parch = int(request.form['parch'])\n",
        "        fare = float(request.form['fare'])\n",
        "        embarked = int(request.form['embarked'])\n",
        "\n",
        "        features = [[pclass, sex, age, sibsp, parch, fare, embarked]]\n",
        "        print(f\"Received features: {features}\")  # Debugging print\n",
        "\n",
        "        prediction = model.predict(features)\n",
        "        print(f\"Model prediction: {prediction}\")  # Debugging print\n",
        "\n",
        "        return jsonify({'prediction': int(prediction[0])})\n",
        "    except Exception as e:\n",
        "        print(f\"Error in prediction: {e}\")\n",
        "        return jsonify({'error': 'Prediction failed, check input data and model.'})\n",
        "\n",
        "def run_flask_app():\n",
        "  app.run(host='127.0.0.1', port=5000, debug=True, use_reloader=False)\n",
        "\n",
        "public_url = ngrok.connect(addr=\"5000\", proto=\"http\")\n",
        "print(\"Public URL:\", public_url)\n",
        "display(HTML(f\"<h2>Open this linkn in your browser to accesss the application:</h2><p>{public_url}</p>\"))\n",
        "try:\n",
        "  run_flask_app()\n",
        "except:\n",
        "  ngrok.kill()\n"
      ]
    },
    {
      "cell_type": "code",
      "execution_count": null,
      "metadata": {
        "id": "TqdG8-XikHgW"
      },
      "outputs": [],
      "source": []
    }
  ],
  "metadata": {
    "colab": {
      "provenance": []
    },
    "kernelspec": {
      "display_name": "Python 3",
      "name": "python3"
    },
    "language_info": {
      "codemirror_mode": {
        "name": "ipython",
        "version": 3
      },
      "file_extension": ".py",
      "mimetype": "text/x-python",
      "name": "python",
      "nbconvert_exporter": "python",
      "pygments_lexer": "ipython3",
      "version": "3.12.4"
    }
  },
  "nbformat": 4,
  "nbformat_minor": 0
}
